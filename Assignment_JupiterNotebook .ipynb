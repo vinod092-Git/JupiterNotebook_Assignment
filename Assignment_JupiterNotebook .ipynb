{
 "cells": [
  {
   "cell_type": "markdown",
   "id": "1b4b0b4d-44a1-4b45-8a20-d1b9d8e1e883",
   "metadata": {},
   "source": [
    "# My Jupyter Notebook on IBM Watson Studio"
   ]
  },
  {
   "cell_type": "markdown",
   "id": "1d78dff1-3a5a-47f2-9b09-59b6ddf8413c",
   "metadata": {},
   "source": [
    "**Vinod.S**\n",
    "\n",
    "Data Scientist"
   ]
  },
  {
   "cell_type": "markdown",
   "id": "9ae6bf5f-be07-4088-b4b9-83f6b83628cb",
   "metadata": {
    "tags": []
   },
   "source": [
    "*I am interested in DataSicence bacause It is interesting to understand,analyse data and present it into visual forms,use various predictive models to derive a solution or insights to data problems*\n",
    "\n",
    "_I can learn various data refinery tools,data analytical tools which deal in constructive data sets and predict solutions to required problems._"
   ]
  },
  {
   "cell_type": "markdown",
   "id": "b3f8fe70-59f7-4cf6-9db0-a9469a47dc34",
   "metadata": {},
   "source": [
    "### In Cell 5,the must be executed and must display an output. Try to keep the code simple"
   ]
  },
  {
   "cell_type": "code",
   "execution_count": 1,
   "id": "bbd076b7-a564-47cf-a7e6-511be8ad8a87",
   "metadata": {},
   "outputs": [
    {
     "name": "stdout",
     "output_type": "stream",
     "text": [
      "3\n"
     ]
    }
   ],
   "source": [
    "a=1\n",
    "b=2\n",
    "print(a+b)"
   ]
  },
  {
   "cell_type": "markdown",
   "id": "70c2650b-2ac8-4a1b-8faf-66d042ae628a",
   "metadata": {},
   "source": [
    "* Apple\n",
    "* Banana\n",
    "* Pineapple\n",
    "\n",
    "~~hello~~\n",
    "\n",
    "[Google Link]\n",
    "\n",
    "[Google Link]: https://www.google.com\n"
   ]
  }
 ],
 "metadata": {
  "kernelspec": {
   "display_name": "Python",
   "language": "python",
   "name": "conda-env-python-py"
  },
  "language_info": {
   "codemirror_mode": {
    "name": "ipython",
    "version": 3
   },
   "file_extension": ".py",
   "mimetype": "text/x-python",
   "name": "python",
   "nbconvert_exporter": "python",
   "pygments_lexer": "ipython3",
   "version": "3.7.12"
  }
 },
 "nbformat": 4,
 "nbformat_minor": 5
}
